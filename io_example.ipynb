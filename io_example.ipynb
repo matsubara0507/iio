{
 "cells": [
  {
   "cell_type": "code",
   "execution_count": 1,
   "metadata": {},
   "outputs": [
    {
     "name": "stdout",
     "output_type": "stream",
     "text": [
      "==> 2\n"
     ]
    }
   ],
   "source": [
    "1 + 1"
   ]
  },
  {
   "cell_type": "code",
   "execution_count": 2,
   "metadata": {},
   "outputs": [
    {
     "name": "stdout",
     "output_type": "stream",
     "text": [
      "==>  Vehicle_0x56386072f270:\n",
      "  type             = \"Vehicle\"\n",
      "\n"
     ]
    }
   ],
   "source": [
    "Vehicle := Object clone"
   ]
  },
  {
   "cell_type": "code",
   "execution_count": 3,
   "metadata": {},
   "outputs": [
    {
     "name": "stdout",
     "output_type": "stream",
     "text": [
      "==> Something to take you places\n"
     ]
    }
   ],
   "source": [
    "Vehicle description := \"Something to take you places\""
   ]
  },
  {
   "cell_type": "code",
   "execution_count": 4,
   "metadata": {},
   "outputs": [
    {
     "name": "stdout",
     "output_type": "stream",
     "text": [
      "==> Something to take you places\n"
     ]
    }
   ],
   "source": [
    "Vehicle description"
   ]
  },
  {
   "cell_type": "code",
   "execution_count": 5,
   "metadata": {},
   "outputs": [
    {
     "name": "stdout",
     "output_type": "stream",
     "text": [
      "==> Something to take you far away\n"
     ]
    }
   ],
   "source": [
    "Vehicle description = \"Something to take you far away\""
   ]
  },
  {
   "cell_type": "code",
   "execution_count": 6,
   "metadata": {},
   "outputs": [
    {
     "name": "stdout",
     "output_type": "stream",
     "text": [
      "\n",
      "  Exception: Slot nonexistingSlot not found. Must define slot using := operator before updating.\n",
      "  ---------\n",
      "  message 'updateSlot' in 'Command Line' on line 1\n",
      "\n"
     ]
    }
   ],
   "source": [
    "Vehicle nonexistingSlot = \"This won't work.\""
   ]
  },
  {
   "cell_type": "code",
   "execution_count": 7,
   "metadata": {},
   "outputs": [
    {
     "name": "stdout",
     "output_type": "stream",
     "text": [
      "==> list(type, description)\n"
     ]
    }
   ],
   "source": [
    "Vehicle slotNames"
   ]
  },
  {
   "cell_type": "code",
   "execution_count": null,
   "metadata": {},
   "outputs": [],
   "source": []
  }
 ],
 "metadata": {
  "kernelspec": {
   "display_name": "Io",
   "language": "io",
   "name": "io"
  },
  "language_info": {
   "codemirror_mode": "scheme",
   "file_extension": ".io",
   "mimetype": "text/plain",
   "name": "Io"
  }
 },
 "nbformat": 4,
 "nbformat_minor": 4
}
